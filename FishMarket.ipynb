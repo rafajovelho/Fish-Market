{
 "cells": [
  {
   "cell_type": "markdown",
   "metadata": {},
   "source": [
    "### Prever peso de peixes com base nos seus atributos"
   ]
  },
  {
   "cell_type": "markdown",
   "metadata": {},
   "source": [
    "O objetivo desse estudo é prever o peso dos peixes utilizando Regressão Linear com base nas suas dimensões"
   ]
  },
  {
   "cell_type": "markdown",
   "metadata": {},
   "source": [
    "https://www.kaggle.com/datasets/aungpyaeap/fish-market"
   ]
  },
  {
   "cell_type": "code",
   "execution_count": 1,
   "metadata": {},
   "outputs": [],
   "source": [
    "import pandas as pd\n",
    "import numpy as np\n",
    "import matplotlib.pyplot as plt\n",
    "import seaborn as sns\n",
    "import sklearn\n",
    "from sklearn.model_selection import train_test_split\n",
    "from sklearn.preprocessing import StandardScaler\n",
    "from sklearn.linear_model import LinearRegression\n",
    "from sklearn.linear_model import Ridge\n",
    "from sklearn.linear_model import Lasso\n",
    "from sklearn.metrics import mean_absolute_error, mean_squared_error, r2_score, explained_variance_score\n",
    "sns.set_style('whitegrid')\n",
    "import os\n",
    "from scipy import stats"
   ]
  },
  {
   "cell_type": "code",
   "execution_count": 2,
   "metadata": {},
   "outputs": [
    {
     "data": {
      "text/plain": [
       "'c:\\\\FCD\\\\Projects\\\\Fish_Weight'"
      ]
     },
     "execution_count": 2,
     "metadata": {},
     "output_type": "execute_result"
    }
   ],
   "source": [
    "os.getcwd()"
   ]
  },
  {
   "cell_type": "code",
   "execution_count": 3,
   "metadata": {},
   "outputs": [],
   "source": [
    "data = pd.read_csv('Fish.csv')\n",
    "df = data.copy()"
   ]
  },
  {
   "cell_type": "code",
   "execution_count": 4,
   "metadata": {},
   "outputs": [
    {
     "data": {
      "text/html": [
       "<div>\n",
       "<style scoped>\n",
       "    .dataframe tbody tr th:only-of-type {\n",
       "        vertical-align: middle;\n",
       "    }\n",
       "\n",
       "    .dataframe tbody tr th {\n",
       "        vertical-align: top;\n",
       "    }\n",
       "\n",
       "    .dataframe thead th {\n",
       "        text-align: right;\n",
       "    }\n",
       "</style>\n",
       "<table border=\"1\" class=\"dataframe\">\n",
       "  <thead>\n",
       "    <tr style=\"text-align: right;\">\n",
       "      <th></th>\n",
       "      <th>Species</th>\n",
       "      <th>Weight</th>\n",
       "      <th>Length1</th>\n",
       "      <th>Length2</th>\n",
       "      <th>Length3</th>\n",
       "      <th>Height</th>\n",
       "      <th>Width</th>\n",
       "    </tr>\n",
       "  </thead>\n",
       "  <tbody>\n",
       "    <tr>\n",
       "      <th>0</th>\n",
       "      <td>Bream</td>\n",
       "      <td>242.0</td>\n",
       "      <td>23.2</td>\n",
       "      <td>25.4</td>\n",
       "      <td>30.0</td>\n",
       "      <td>11.5200</td>\n",
       "      <td>4.0200</td>\n",
       "    </tr>\n",
       "    <tr>\n",
       "      <th>1</th>\n",
       "      <td>Bream</td>\n",
       "      <td>290.0</td>\n",
       "      <td>24.0</td>\n",
       "      <td>26.3</td>\n",
       "      <td>31.2</td>\n",
       "      <td>12.4800</td>\n",
       "      <td>4.3056</td>\n",
       "    </tr>\n",
       "    <tr>\n",
       "      <th>2</th>\n",
       "      <td>Bream</td>\n",
       "      <td>340.0</td>\n",
       "      <td>23.9</td>\n",
       "      <td>26.5</td>\n",
       "      <td>31.1</td>\n",
       "      <td>12.3778</td>\n",
       "      <td>4.6961</td>\n",
       "    </tr>\n",
       "    <tr>\n",
       "      <th>3</th>\n",
       "      <td>Bream</td>\n",
       "      <td>363.0</td>\n",
       "      <td>26.3</td>\n",
       "      <td>29.0</td>\n",
       "      <td>33.5</td>\n",
       "      <td>12.7300</td>\n",
       "      <td>4.4555</td>\n",
       "    </tr>\n",
       "    <tr>\n",
       "      <th>4</th>\n",
       "      <td>Bream</td>\n",
       "      <td>430.0</td>\n",
       "      <td>26.5</td>\n",
       "      <td>29.0</td>\n",
       "      <td>34.0</td>\n",
       "      <td>12.4440</td>\n",
       "      <td>5.1340</td>\n",
       "    </tr>\n",
       "  </tbody>\n",
       "</table>\n",
       "</div>"
      ],
      "text/plain": [
       "  Species  Weight  Length1  Length2  Length3   Height   Width\n",
       "0   Bream   242.0     23.2     25.4     30.0  11.5200  4.0200\n",
       "1   Bream   290.0     24.0     26.3     31.2  12.4800  4.3056\n",
       "2   Bream   340.0     23.9     26.5     31.1  12.3778  4.6961\n",
       "3   Bream   363.0     26.3     29.0     33.5  12.7300  4.4555\n",
       "4   Bream   430.0     26.5     29.0     34.0  12.4440  5.1340"
      ]
     },
     "execution_count": 4,
     "metadata": {},
     "output_type": "execute_result"
    }
   ],
   "source": [
    "df.head()"
   ]
  },
  {
   "cell_type": "code",
   "execution_count": 5,
   "metadata": {},
   "outputs": [
    {
     "data": {
      "text/html": [
       "<div>\n",
       "<style scoped>\n",
       "    .dataframe tbody tr th:only-of-type {\n",
       "        vertical-align: middle;\n",
       "    }\n",
       "\n",
       "    .dataframe tbody tr th {\n",
       "        vertical-align: top;\n",
       "    }\n",
       "\n",
       "    .dataframe thead th {\n",
       "        text-align: right;\n",
       "    }\n",
       "</style>\n",
       "<table border=\"1\" class=\"dataframe\">\n",
       "  <thead>\n",
       "    <tr style=\"text-align: right;\">\n",
       "      <th></th>\n",
       "      <th>Species</th>\n",
       "      <th>Weight</th>\n",
       "      <th>Length1</th>\n",
       "      <th>Length2</th>\n",
       "      <th>Length3</th>\n",
       "      <th>Height</th>\n",
       "      <th>Width</th>\n",
       "    </tr>\n",
       "  </thead>\n",
       "  <tbody>\n",
       "    <tr>\n",
       "      <th>114</th>\n",
       "      <td>Perch</td>\n",
       "      <td>700.0</td>\n",
       "      <td>34.5</td>\n",
       "      <td>37.0</td>\n",
       "      <td>39.4</td>\n",
       "      <td>10.8350</td>\n",
       "      <td>6.2646</td>\n",
       "    </tr>\n",
       "    <tr>\n",
       "      <th>149</th>\n",
       "      <td>Smelt</td>\n",
       "      <td>9.8</td>\n",
       "      <td>10.7</td>\n",
       "      <td>11.2</td>\n",
       "      <td>12.4</td>\n",
       "      <td>2.0832</td>\n",
       "      <td>1.2772</td>\n",
       "    </tr>\n",
       "    <tr>\n",
       "      <th>82</th>\n",
       "      <td>Perch</td>\n",
       "      <td>110.0</td>\n",
       "      <td>19.0</td>\n",
       "      <td>21.0</td>\n",
       "      <td>22.5</td>\n",
       "      <td>5.6925</td>\n",
       "      <td>3.5550</td>\n",
       "    </tr>\n",
       "    <tr>\n",
       "      <th>4</th>\n",
       "      <td>Bream</td>\n",
       "      <td>430.0</td>\n",
       "      <td>26.5</td>\n",
       "      <td>29.0</td>\n",
       "      <td>34.0</td>\n",
       "      <td>12.4440</td>\n",
       "      <td>5.1340</td>\n",
       "    </tr>\n",
       "    <tr>\n",
       "      <th>135</th>\n",
       "      <td>Pike</td>\n",
       "      <td>510.0</td>\n",
       "      <td>40.0</td>\n",
       "      <td>42.5</td>\n",
       "      <td>45.5</td>\n",
       "      <td>6.8250</td>\n",
       "      <td>4.4590</td>\n",
       "    </tr>\n",
       "    <tr>\n",
       "      <th>119</th>\n",
       "      <td>Perch</td>\n",
       "      <td>850.0</td>\n",
       "      <td>36.9</td>\n",
       "      <td>40.0</td>\n",
       "      <td>42.3</td>\n",
       "      <td>11.9286</td>\n",
       "      <td>7.1064</td>\n",
       "    </tr>\n",
       "    <tr>\n",
       "      <th>92</th>\n",
       "      <td>Perch</td>\n",
       "      <td>150.0</td>\n",
       "      <td>20.5</td>\n",
       "      <td>22.5</td>\n",
       "      <td>24.0</td>\n",
       "      <td>6.7920</td>\n",
       "      <td>3.6240</td>\n",
       "    </tr>\n",
       "    <tr>\n",
       "      <th>73</th>\n",
       "      <td>Perch</td>\n",
       "      <td>32.0</td>\n",
       "      <td>12.5</td>\n",
       "      <td>13.7</td>\n",
       "      <td>14.7</td>\n",
       "      <td>3.5280</td>\n",
       "      <td>1.9992</td>\n",
       "    </tr>\n",
       "  </tbody>\n",
       "</table>\n",
       "</div>"
      ],
      "text/plain": [
       "    Species  Weight  Length1  Length2  Length3   Height   Width\n",
       "114   Perch   700.0     34.5     37.0     39.4  10.8350  6.2646\n",
       "149   Smelt     9.8     10.7     11.2     12.4   2.0832  1.2772\n",
       "82    Perch   110.0     19.0     21.0     22.5   5.6925  3.5550\n",
       "4     Bream   430.0     26.5     29.0     34.0  12.4440  5.1340\n",
       "135    Pike   510.0     40.0     42.5     45.5   6.8250  4.4590\n",
       "119   Perch   850.0     36.9     40.0     42.3  11.9286  7.1064\n",
       "92    Perch   150.0     20.5     22.5     24.0   6.7920  3.6240\n",
       "73    Perch    32.0     12.5     13.7     14.7   3.5280  1.9992"
      ]
     },
     "execution_count": 5,
     "metadata": {},
     "output_type": "execute_result"
    }
   ],
   "source": [
    "df.sample(8)"
   ]
  },
  {
   "cell_type": "markdown",
   "metadata": {},
   "source": [
    "#### Significado das colunas ####\n"
   ]
  },
  {
   "cell_type": "markdown",
   "metadata": {},
   "source": [
    "Weight: Peso do peixe em gramas"
   ]
  },
  {
   "cell_type": "markdown",
   "metadata": {},
   "source": [
    "Length1: comprimento vertical em cm"
   ]
  },
  {
   "cell_type": "markdown",
   "metadata": {},
   "source": [
    "Length2: comprimento diagnonal em cm"
   ]
  },
  {
   "cell_type": "markdown",
   "metadata": {},
   "source": [
    "Length3: comprimento cruzado em cm"
   ]
  },
  {
   "cell_type": "markdown",
   "metadata": {},
   "source": [
    "Height: altura em cm"
   ]
  },
  {
   "cell_type": "markdown",
   "metadata": {},
   "source": [
    "Width: largura diagonal em cm"
   ]
  },
  {
   "cell_type": "code",
   "execution_count": 6,
   "metadata": {},
   "outputs": [],
   "source": [
    "# Renomeando as colunas para melhor visualização\n",
    "df.rename(columns = {'Weight': 'Peso', 'Length1': 'CompVertical',\n",
    "                     'Length2':'CompDiag', 'Length3': 'CompCruzado',\n",
    "                     'Height':'Altura', 'Width':'Largura', 'Species': 'Especies'},\n",
    "                     inplace= True)"
   ]
  },
  {
   "cell_type": "code",
   "execution_count": 7,
   "metadata": {},
   "outputs": [
    {
     "name": "stdout",
     "output_type": "stream",
     "text": [
      "<class 'pandas.core.frame.DataFrame'>\n",
      "RangeIndex: 159 entries, 0 to 158\n",
      "Data columns (total 7 columns):\n",
      " #   Column        Non-Null Count  Dtype  \n",
      "---  ------        --------------  -----  \n",
      " 0   Especies      159 non-null    object \n",
      " 1   Peso          159 non-null    float64\n",
      " 2   CompVertical  159 non-null    float64\n",
      " 3   CompDiag      159 non-null    float64\n",
      " 4   CompCruzado   159 non-null    float64\n",
      " 5   Altura        159 non-null    float64\n",
      " 6   Largura       159 non-null    float64\n",
      "dtypes: float64(6), object(1)\n",
      "memory usage: 8.8+ KB\n"
     ]
    }
   ],
   "source": [
    "df.info()"
   ]
  },
  {
   "cell_type": "code",
   "execution_count": 8,
   "metadata": {},
   "outputs": [
    {
     "data": {
      "text/html": [
       "<div>\n",
       "<style scoped>\n",
       "    .dataframe tbody tr th:only-of-type {\n",
       "        vertical-align: middle;\n",
       "    }\n",
       "\n",
       "    .dataframe tbody tr th {\n",
       "        vertical-align: top;\n",
       "    }\n",
       "\n",
       "    .dataframe thead th {\n",
       "        text-align: right;\n",
       "    }\n",
       "</style>\n",
       "<table border=\"1\" class=\"dataframe\">\n",
       "  <thead>\n",
       "    <tr style=\"text-align: right;\">\n",
       "      <th></th>\n",
       "      <th>Peso</th>\n",
       "      <th>CompVertical</th>\n",
       "      <th>CompDiag</th>\n",
       "      <th>CompCruzado</th>\n",
       "      <th>Altura</th>\n",
       "      <th>Largura</th>\n",
       "    </tr>\n",
       "  </thead>\n",
       "  <tbody>\n",
       "    <tr>\n",
       "      <th>count</th>\n",
       "      <td>159.000000</td>\n",
       "      <td>159.000000</td>\n",
       "      <td>159.000000</td>\n",
       "      <td>159.000000</td>\n",
       "      <td>159.000000</td>\n",
       "      <td>159.000000</td>\n",
       "    </tr>\n",
       "    <tr>\n",
       "      <th>mean</th>\n",
       "      <td>398.326415</td>\n",
       "      <td>26.247170</td>\n",
       "      <td>28.415723</td>\n",
       "      <td>31.227044</td>\n",
       "      <td>8.970994</td>\n",
       "      <td>4.417486</td>\n",
       "    </tr>\n",
       "    <tr>\n",
       "      <th>std</th>\n",
       "      <td>357.978317</td>\n",
       "      <td>9.996441</td>\n",
       "      <td>10.716328</td>\n",
       "      <td>11.610246</td>\n",
       "      <td>4.286208</td>\n",
       "      <td>1.685804</td>\n",
       "    </tr>\n",
       "    <tr>\n",
       "      <th>min</th>\n",
       "      <td>0.000000</td>\n",
       "      <td>7.500000</td>\n",
       "      <td>8.400000</td>\n",
       "      <td>8.800000</td>\n",
       "      <td>1.728400</td>\n",
       "      <td>1.047600</td>\n",
       "    </tr>\n",
       "    <tr>\n",
       "      <th>25%</th>\n",
       "      <td>120.000000</td>\n",
       "      <td>19.050000</td>\n",
       "      <td>21.000000</td>\n",
       "      <td>23.150000</td>\n",
       "      <td>5.944800</td>\n",
       "      <td>3.385650</td>\n",
       "    </tr>\n",
       "    <tr>\n",
       "      <th>50%</th>\n",
       "      <td>273.000000</td>\n",
       "      <td>25.200000</td>\n",
       "      <td>27.300000</td>\n",
       "      <td>29.400000</td>\n",
       "      <td>7.786000</td>\n",
       "      <td>4.248500</td>\n",
       "    </tr>\n",
       "    <tr>\n",
       "      <th>75%</th>\n",
       "      <td>650.000000</td>\n",
       "      <td>32.700000</td>\n",
       "      <td>35.500000</td>\n",
       "      <td>39.650000</td>\n",
       "      <td>12.365900</td>\n",
       "      <td>5.584500</td>\n",
       "    </tr>\n",
       "    <tr>\n",
       "      <th>max</th>\n",
       "      <td>1650.000000</td>\n",
       "      <td>59.000000</td>\n",
       "      <td>63.400000</td>\n",
       "      <td>68.000000</td>\n",
       "      <td>18.957000</td>\n",
       "      <td>8.142000</td>\n",
       "    </tr>\n",
       "  </tbody>\n",
       "</table>\n",
       "</div>"
      ],
      "text/plain": [
       "              Peso  CompVertical    CompDiag  CompCruzado      Altura  \\\n",
       "count   159.000000    159.000000  159.000000   159.000000  159.000000   \n",
       "mean    398.326415     26.247170   28.415723    31.227044    8.970994   \n",
       "std     357.978317      9.996441   10.716328    11.610246    4.286208   \n",
       "min       0.000000      7.500000    8.400000     8.800000    1.728400   \n",
       "25%     120.000000     19.050000   21.000000    23.150000    5.944800   \n",
       "50%     273.000000     25.200000   27.300000    29.400000    7.786000   \n",
       "75%     650.000000     32.700000   35.500000    39.650000   12.365900   \n",
       "max    1650.000000     59.000000   63.400000    68.000000   18.957000   \n",
       "\n",
       "          Largura  \n",
       "count  159.000000  \n",
       "mean     4.417486  \n",
       "std      1.685804  \n",
       "min      1.047600  \n",
       "25%      3.385650  \n",
       "50%      4.248500  \n",
       "75%      5.584500  \n",
       "max      8.142000  "
      ]
     },
     "execution_count": 8,
     "metadata": {},
     "output_type": "execute_result"
    }
   ],
   "source": [
    "df.describe()"
   ]
  },
  {
   "cell_type": "code",
   "execution_count": 9,
   "metadata": {},
   "outputs": [
    {
     "data": {
      "text/plain": [
       "count       159\n",
       "unique        7\n",
       "top       Perch\n",
       "freq         56\n",
       "Name: Especies, dtype: object"
      ]
     },
     "execution_count": 9,
     "metadata": {},
     "output_type": "execute_result"
    }
   ],
   "source": [
    "df.Especies.describe()"
   ]
  },
  {
   "cell_type": "code",
   "execution_count": 10,
   "metadata": {},
   "outputs": [
    {
     "data": {
      "text/plain": [
       "(159, 7)"
      ]
     },
     "execution_count": 10,
     "metadata": {},
     "output_type": "execute_result"
    }
   ],
   "source": [
    "df.shape"
   ]
  },
  {
   "cell_type": "markdown",
   "metadata": {},
   "source": [
    "### Verificação da presença de valores NaN ###"
   ]
  },
  {
   "cell_type": "code",
   "execution_count": 11,
   "metadata": {},
   "outputs": [
    {
     "data": {
      "text/plain": [
       "Especies        0\n",
       "Peso            0\n",
       "CompVertical    0\n",
       "CompDiag        0\n",
       "CompCruzado     0\n",
       "Altura          0\n",
       "Largura         0\n",
       "dtype: int64"
      ]
     },
     "execution_count": 11,
     "metadata": {},
     "output_type": "execute_result"
    }
   ],
   "source": [
    "df.isna().sum()"
   ]
  },
  {
   "cell_type": "markdown",
   "metadata": {},
   "source": [
    "Não há valores NaN"
   ]
  },
  {
   "cell_type": "markdown",
   "metadata": {},
   "source": [
    "### Verificando se há valores duplicados ###"
   ]
  },
  {
   "cell_type": "code",
   "execution_count": 12,
   "metadata": {},
   "outputs": [
    {
     "data": {
      "text/plain": [
       "False"
      ]
     },
     "execution_count": 12,
     "metadata": {},
     "output_type": "execute_result"
    }
   ],
   "source": [
    "df.duplicated().any()"
   ]
  },
  {
   "cell_type": "markdown",
   "metadata": {},
   "source": [
    "### Data Analysis ###"
   ]
  },
  {
   "cell_type": "code",
   "execution_count": 13,
   "metadata": {},
   "outputs": [
    {
     "data": {
      "text/html": [
       "<div>\n",
       "<style scoped>\n",
       "    .dataframe tbody tr th:only-of-type {\n",
       "        vertical-align: middle;\n",
       "    }\n",
       "\n",
       "    .dataframe tbody tr th {\n",
       "        vertical-align: top;\n",
       "    }\n",
       "\n",
       "    .dataframe thead th {\n",
       "        text-align: right;\n",
       "    }\n",
       "</style>\n",
       "<table border=\"1\" class=\"dataframe\">\n",
       "  <thead>\n",
       "    <tr style=\"text-align: right;\">\n",
       "      <th></th>\n",
       "      <th>Especies</th>\n",
       "      <th>Peso</th>\n",
       "      <th>CompVertical</th>\n",
       "      <th>CompDiag</th>\n",
       "      <th>CompCruzado</th>\n",
       "      <th>Altura</th>\n",
       "      <th>Largura</th>\n",
       "    </tr>\n",
       "  </thead>\n",
       "  <tbody>\n",
       "    <tr>\n",
       "      <th>154</th>\n",
       "      <td>Smelt</td>\n",
       "      <td>12.2</td>\n",
       "      <td>11.5</td>\n",
       "      <td>12.2</td>\n",
       "      <td>13.4</td>\n",
       "      <td>2.0904</td>\n",
       "      <td>1.3936</td>\n",
       "    </tr>\n",
       "    <tr>\n",
       "      <th>46</th>\n",
       "      <td>Roach</td>\n",
       "      <td>140.0</td>\n",
       "      <td>21.0</td>\n",
       "      <td>22.5</td>\n",
       "      <td>25.0</td>\n",
       "      <td>6.5500</td>\n",
       "      <td>3.3250</td>\n",
       "    </tr>\n",
       "    <tr>\n",
       "      <th>100</th>\n",
       "      <td>Perch</td>\n",
       "      <td>197.0</td>\n",
       "      <td>23.5</td>\n",
       "      <td>25.6</td>\n",
       "      <td>27.0</td>\n",
       "      <td>6.5610</td>\n",
       "      <td>4.2390</td>\n",
       "    </tr>\n",
       "    <tr>\n",
       "      <th>18</th>\n",
       "      <td>Bream</td>\n",
       "      <td>610.0</td>\n",
       "      <td>30.9</td>\n",
       "      <td>33.5</td>\n",
       "      <td>38.6</td>\n",
       "      <td>15.6330</td>\n",
       "      <td>5.1338</td>\n",
       "    </tr>\n",
       "    <tr>\n",
       "      <th>40</th>\n",
       "      <td>Roach</td>\n",
       "      <td>0.0</td>\n",
       "      <td>19.0</td>\n",
       "      <td>20.5</td>\n",
       "      <td>22.8</td>\n",
       "      <td>6.4752</td>\n",
       "      <td>3.3516</td>\n",
       "    </tr>\n",
       "  </tbody>\n",
       "</table>\n",
       "</div>"
      ],
      "text/plain": [
       "    Especies   Peso  CompVertical  CompDiag  CompCruzado   Altura  Largura\n",
       "154    Smelt   12.2          11.5      12.2         13.4   2.0904   1.3936\n",
       "46     Roach  140.0          21.0      22.5         25.0   6.5500   3.3250\n",
       "100    Perch  197.0          23.5      25.6         27.0   6.5610   4.2390\n",
       "18     Bream  610.0          30.9      33.5         38.6  15.6330   5.1338\n",
       "40     Roach    0.0          19.0      20.5         22.8   6.4752   3.3516"
      ]
     },
     "execution_count": 13,
     "metadata": {},
     "output_type": "execute_result"
    }
   ],
   "source": [
    "df.sample(5)"
   ]
  },
  {
   "cell_type": "code",
   "execution_count": 14,
   "metadata": {},
   "outputs": [],
   "source": [
    "df_espec_cont = df.Especies.value_counts()"
   ]
  },
  {
   "cell_type": "code",
   "execution_count": 15,
   "metadata": {},
   "outputs": [
    {
     "data": {
      "image/png": "[encoded data removed]",
      "text/plain": [
       "<Figure size 720x576 with 1 Axes>"
      ]
     },
     "metadata": {},
     "output_type": "display_data"
    }
   ],
   "source": [
    "plt.figure(figsize = (10,8))\n",
    "\n",
    "sns.barplot(x = df_espec_cont.index, y = df_espec_cont.values, hue = df_espec_cont.index, dodge = False)\n",
    "plt.xlabel('Espécies', fontdict = {'fontsize': '14'})\n",
    "plt.ylabel('Contagem das Espécies', fontdict = {'fontsize': '14'})\n",
    "plt.title('Quantidade de Cada Tipo de Peixe', fontdict = {'fontsize': '18'}, fontweight = 'bold')\n",
    "plt.show()"
   ]
  },
  {
   "cell_type": "markdown",
   "metadata": {},
   "source": [
    "##### Correlação #####"
   ]
  },
  {
   "cell_type": "code",
   "execution_count": 16,
   "metadata": {},
   "outputs": [
    {
     "data": {
      "text/html": [
       "<div>\n",
       "<style scoped>\n",
       "    .dataframe tbody tr th:only-of-type {\n",
       "        vertical-align: middle;\n",
       "    }\n",
       "\n",
       "    .dataframe tbody tr th {\n",
       "        vertical-align: top;\n",
       "    }\n",
       "\n",
       "    .dataframe thead th {\n",
       "        text-align: right;\n",
       "    }\n",
       "</style>\n",
       "<table border=\"1\" class=\"dataframe\">\n",
       "  <thead>\n",
       "    <tr style=\"text-align: right;\">\n",
       "      <th></th>\n",
       "      <th>Peso</th>\n",
       "      <th>CompVertical</th>\n",
       "      <th>CompDiag</th>\n",
       "      <th>CompCruzado</th>\n",
       "      <th>Altura</th>\n",
       "      <th>Largura</th>\n",
       "    </tr>\n",
       "  </thead>\n",
       "  <tbody>\n",
       "    <tr>\n",
       "      <th>Peso</th>\n",
       "      <td>1.000000</td>\n",
       "      <td>0.915712</td>\n",
       "      <td>0.918618</td>\n",
       "      <td>0.923044</td>\n",
       "      <td>0.724345</td>\n",
       "      <td>0.886507</td>\n",
       "    </tr>\n",
       "    <tr>\n",
       "      <th>CompVertical</th>\n",
       "      <td>0.915712</td>\n",
       "      <td>1.000000</td>\n",
       "      <td>0.999517</td>\n",
       "      <td>0.992031</td>\n",
       "      <td>0.625378</td>\n",
       "      <td>0.867050</td>\n",
       "    </tr>\n",
       "    <tr>\n",
       "      <th>CompDiag</th>\n",
       "      <td>0.918618</td>\n",
       "      <td>0.999517</td>\n",
       "      <td>1.000000</td>\n",
       "      <td>0.994103</td>\n",
       "      <td>0.640441</td>\n",
       "      <td>0.873547</td>\n",
       "    </tr>\n",
       "    <tr>\n",
       "      <th>CompCruzado</th>\n",
       "      <td>0.923044</td>\n",
       "      <td>0.992031</td>\n",
       "      <td>0.994103</td>\n",
       "      <td>1.000000</td>\n",
       "      <td>0.703409</td>\n",
       "      <td>0.878520</td>\n",
       "    </tr>\n",
       "    <tr>\n",
       "      <th>Altura</th>\n",
       "      <td>0.724345</td>\n",
       "      <td>0.625378</td>\n",
       "      <td>0.640441</td>\n",
       "      <td>0.703409</td>\n",
       "      <td>1.000000</td>\n",
       "      <td>0.792881</td>\n",
       "    </tr>\n",
       "    <tr>\n",
       "      <th>Largura</th>\n",
       "      <td>0.886507</td>\n",
       "      <td>0.867050</td>\n",
       "      <td>0.873547</td>\n",
       "      <td>0.878520</td>\n",
       "      <td>0.792881</td>\n",
       "      <td>1.000000</td>\n",
       "    </tr>\n",
       "  </tbody>\n",
       "</table>\n",
       "</div>"
      ],
      "text/plain": [
       "                  Peso  CompVertical  CompDiag  CompCruzado    Altura  \\\n",
       "Peso          1.000000      0.915712  0.918618     0.923044  0.724345   \n",
       "CompVertical  0.915712      1.000000  0.999517     0.992031  0.625378   \n",
       "CompDiag      0.918618      0.999517  1.000000     0.994103  0.640441   \n",
       "CompCruzado   0.923044      0.992031  0.994103     1.000000  0.703409   \n",
       "Altura        0.724345      0.625378  0.640441     0.703409  1.000000   \n",
       "Largura       0.886507      0.867050  0.873547     0.878520  0.792881   \n",
       "\n",
       "               Largura  \n",
       "Peso          0.886507  \n",
       "CompVertical  0.867050  \n",
       "CompDiag      0.873547  \n",
       "CompCruzado   0.878520  \n",
       "Altura        0.792881  \n",
       "Largura       1.000000  "
      ]
     },
     "execution_count": 16,
     "metadata": {},
     "output_type": "execute_result"
    }
   ],
   "source": [
    "df.corr()"
   ]
  },
  {
   "cell_type": "code",
   "execution_count": 17,
   "metadata": {},
   "outputs": [
    {
     "data": {
      "image/png": "[encoded data removed]",
      "text/plain": [
       "<Figure size 648x504 with 2 Axes>"
      ]
     },
     "metadata": {},
     "output_type": "display_data"
    }
   ],
   "source": [
    "# Mapa de Calor para visuaalização da correlação entre as variáveis\n",
    "\n",
    "plt.figure(figsize = (9,7))\n",
    "sns.heatmap(data = df.corr(), cmap = 'Greens', annot = True)\n",
    "plt.show()"
   ]
  },
  {
   "cell_type": "code",
   "execution_count": 18,
   "metadata": {},
   "outputs": [
    {
     "data": {
      "text/plain": [
       "<seaborn.axisgrid.PairGrid at 0x1ec70d63a08>"
      ]
     },
     "execution_count": 18,
     "metadata": {},
     "output_type": "execute_result"
    },
    {
     "data": {
      "image/png": "[encoded data removed]",
      "text/plain": [
       "<Figure size 1080x1080 with 42 Axes>"
      ]
     },
     "metadata": {},
     "output_type": "display_data"
    }
   ],
   "source": [
    "# Visualização da correlação entre as varipaveis\n",
    "sns.pairplot(df, palette = 'seagreen')"
   ]
  },
  {
   "cell_type": "markdown",
   "metadata": {},
   "source": [
    "Podemos notar que algumas variáveis preditoras possuem um correlação demasiadamente alta entre si. Essa situação nao é interessante para ML pois possivelmente poderá causar um overfitting no modelo."
   ]
  },
  {
   "cell_type": "markdown",
   "metadata": {},
   "source": [
    "O ideal, portanto, deixar apenas uma dessas variáveis que possuem forte correlação, pois elas provavelmente estão trazendo a mesma informação"
   ]
  },
  {
   "cell_type": "markdown",
   "metadata": {},
   "source": [
    "A decisão a ser tomada aqui será manter a variáveis 'CompDiag' e e retirar as variáveis 'CompVertical' e 'CompCruzado'"
   ]
  },
  {
   "cell_type": "code",
   "execution_count": 19,
   "metadata": {},
   "outputs": [],
   "source": [
    "df.drop(columns=['CompVertical','CompCruzado'], inplace = True)"
   ]
  },
  {
   "cell_type": "code",
   "execution_count": 20,
   "metadata": {},
   "outputs": [
    {
     "data": {
      "text/html": [
       "<div>\n",
       "<style scoped>\n",
       "    .dataframe tbody tr th:only-of-type {\n",
       "        vertical-align: middle;\n",
       "    }\n",
       "\n",
       "    .dataframe tbody tr th {\n",
       "        vertical-align: top;\n",
       "    }\n",
       "\n",
       "    .dataframe thead th {\n",
       "        text-align: right;\n",
       "    }\n",
       "</style>\n",
       "<table border=\"1\" class=\"dataframe\">\n",
       "  <thead>\n",
       "    <tr style=\"text-align: right;\">\n",
       "      <th></th>\n",
       "      <th>Especies</th>\n",
       "      <th>Peso</th>\n",
       "      <th>CompDiag</th>\n",
       "      <th>Altura</th>\n",
       "      <th>Largura</th>\n",
       "    </tr>\n",
       "  </thead>\n",
       "  <tbody>\n",
       "    <tr>\n",
       "      <th>58</th>\n",
       "      <td>Whitefish</td>\n",
       "      <td>540.0</td>\n",
       "      <td>31.0</td>\n",
       "      <td>10.7440</td>\n",
       "      <td>6.562</td>\n",
       "    </tr>\n",
       "    <tr>\n",
       "      <th>12</th>\n",
       "      <td>Bream</td>\n",
       "      <td>500.0</td>\n",
       "      <td>31.5</td>\n",
       "      <td>13.7592</td>\n",
       "      <td>4.368</td>\n",
       "    </tr>\n",
       "    <tr>\n",
       "      <th>29</th>\n",
       "      <td>Bream</td>\n",
       "      <td>1000.0</td>\n",
       "      <td>37.0</td>\n",
       "      <td>18.9570</td>\n",
       "      <td>6.603</td>\n",
       "    </tr>\n",
       "    <tr>\n",
       "      <th>133</th>\n",
       "      <td>Pike</td>\n",
       "      <td>345.0</td>\n",
       "      <td>38.5</td>\n",
       "      <td>6.3960</td>\n",
       "      <td>3.977</td>\n",
       "    </tr>\n",
       "    <tr>\n",
       "      <th>94</th>\n",
       "      <td>Perch</td>\n",
       "      <td>150.0</td>\n",
       "      <td>23.0</td>\n",
       "      <td>5.2185</td>\n",
       "      <td>3.626</td>\n",
       "    </tr>\n",
       "  </tbody>\n",
       "</table>\n",
       "</div>"
      ],
      "text/plain": [
       "      Especies    Peso  CompDiag   Altura  Largura\n",
       "58   Whitefish   540.0      31.0  10.7440    6.562\n",
       "12       Bream   500.0      31.5  13.7592    4.368\n",
       "29       Bream  1000.0      37.0  18.9570    6.603\n",
       "133       Pike   345.0      38.5   6.3960    3.977\n",
       "94       Perch   150.0      23.0   5.2185    3.626"
      ]
     },
     "execution_count": 20,
     "metadata": {},
     "output_type": "execute_result"
    }
   ],
   "source": [
    "df.sample(5)"
   ]
  },
  {
   "cell_type": "markdown",
   "metadata": {},
   "source": [
    "### Tratamento de Outliers ###"
   ]
  },
  {
   "cell_type": "code",
   "execution_count": 21,
   "metadata": {},
   "outputs": [
    {
     "data": {
      "text/html": [
       "<div>\n",
       "<style scoped>\n",
       "    .dataframe tbody tr th:only-of-type {\n",
       "        vertical-align: middle;\n",
       "    }\n",
       "\n",
       "    .dataframe tbody tr th {\n",
       "        vertical-align: top;\n",
       "    }\n",
       "\n",
       "    .dataframe thead th {\n",
       "        text-align: right;\n",
       "    }\n",
       "</style>\n",
       "<table border=\"1\" class=\"dataframe\">\n",
       "  <thead>\n",
       "    <tr style=\"text-align: right;\">\n",
       "      <th></th>\n",
       "      <th>Peso</th>\n",
       "      <th>CompDiag</th>\n",
       "      <th>Altura</th>\n",
       "      <th>Largura</th>\n",
       "    </tr>\n",
       "  </thead>\n",
       "  <tbody>\n",
       "    <tr>\n",
       "      <th>count</th>\n",
       "      <td>159.000000</td>\n",
       "      <td>159.000000</td>\n",
       "      <td>159.000000</td>\n",
       "      <td>159.000000</td>\n",
       "    </tr>\n",
       "    <tr>\n",
       "      <th>mean</th>\n",
       "      <td>398.326415</td>\n",
       "      <td>28.415723</td>\n",
       "      <td>8.970994</td>\n",
       "      <td>4.417486</td>\n",
       "    </tr>\n",
       "    <tr>\n",
       "      <th>std</th>\n",
       "      <td>357.978317</td>\n",
       "      <td>10.716328</td>\n",
       "      <td>4.286208</td>\n",
       "      <td>1.685804</td>\n",
       "    </tr>\n",
       "    <tr>\n",
       "      <th>min</th>\n",
       "      <td>0.000000</td>\n",
       "      <td>8.400000</td>\n",
       "      <td>1.728400</td>\n",
       "      <td>1.047600</td>\n",
       "    </tr>\n",
       "    <tr>\n",
       "      <th>25%</th>\n",
       "      <td>120.000000</td>\n",
       "      <td>21.000000</td>\n",
       "      <td>5.944800</td>\n",
       "      <td>3.385650</td>\n",
       "    </tr>\n",
       "    <tr>\n",
       "      <th>50%</th>\n",
       "      <td>273.000000</td>\n",
       "      <td>27.300000</td>\n",
       "      <td>7.786000</td>\n",
       "      <td>4.248500</td>\n",
       "    </tr>\n",
       "    <tr>\n",
       "      <th>75%</th>\n",
       "      <td>650.000000</td>\n",
       "      <td>35.500000</td>\n",
       "      <td>12.365900</td>\n",
       "      <td>5.584500</td>\n",
       "    </tr>\n",
       "    <tr>\n",
       "      <th>max</th>\n",
       "      <td>1650.000000</td>\n",
       "      <td>63.400000</td>\n",
       "      <td>18.957000</td>\n",
       "      <td>8.142000</td>\n",
       "    </tr>\n",
       "  </tbody>\n",
       "</table>\n",
       "</div>"
      ],
      "text/plain": [
       "              Peso    CompDiag      Altura     Largura\n",
       "count   159.000000  159.000000  159.000000  159.000000\n",
       "mean    398.326415   28.415723    8.970994    4.417486\n",
       "std     357.978317   10.716328    4.286208    1.685804\n",
       "min       0.000000    8.400000    1.728400    1.047600\n",
       "25%     120.000000   21.000000    5.944800    3.385650\n",
       "50%     273.000000   27.300000    7.786000    4.248500\n",
       "75%     650.000000   35.500000   12.365900    5.584500\n",
       "max    1650.000000   63.400000   18.957000    8.142000"
      ]
     },
     "execution_count": 21,
     "metadata": {},
     "output_type": "execute_result"
    }
   ],
   "source": [
    "df.describe()"
   ]
  },
  {
   "cell_type": "code",
   "execution_count": 22,
   "metadata": {},
   "outputs": [
    {
     "data": {
      "text/html": [
       "<div>\n",
       "<style scoped>\n",
       "    .dataframe tbody tr th:only-of-type {\n",
       "        vertical-align: middle;\n",
       "    }\n",
       "\n",
       "    .dataframe tbody tr th {\n",
       "        vertical-align: top;\n",
       "    }\n",
       "\n",
       "    .dataframe thead th {\n",
       "        text-align: right;\n",
       "    }\n",
       "</style>\n",
       "<table border=\"1\" class=\"dataframe\">\n",
       "  <thead>\n",
       "    <tr style=\"text-align: right;\">\n",
       "      <th></th>\n",
       "      <th>Especies</th>\n",
       "      <th>Peso</th>\n",
       "      <th>CompDiag</th>\n",
       "      <th>Altura</th>\n",
       "      <th>Largura</th>\n",
       "    </tr>\n",
       "  </thead>\n",
       "  <tbody>\n",
       "    <tr>\n",
       "      <th>40</th>\n",
       "      <td>Roach</td>\n",
       "      <td>0.0</td>\n",
       "      <td>20.5</td>\n",
       "      <td>6.4752</td>\n",
       "      <td>3.3516</td>\n",
       "    </tr>\n",
       "  </tbody>\n",
       "</table>\n",
       "</div>"
      ],
      "text/plain": [
       "   Especies  Peso  CompDiag  Altura  Largura\n",
       "40    Roach   0.0      20.5  6.4752   3.3516"
      ]
     },
     "execution_count": 22,
     "metadata": {},
     "output_type": "execute_result"
    }
   ],
   "source": [
    "# Procurando por registros de peixes que tenham peso = 0. Iremos removê-los por nao fazer sentido\n",
    "df[(df['Peso'])== 0]"
   ]
  },
  {
   "cell_type": "code",
   "execution_count": 23,
   "metadata": {},
   "outputs": [],
   "source": [
    "# Remoção de registro incoerente\n",
    "df.loc[40]\n",
    "df.drop(40, inplace = True)\n",
    "df.reset_index(inplace = True)"
   ]
  },
  {
   "cell_type": "code",
   "execution_count": 24,
   "metadata": {},
   "outputs": [
    {
     "data": {
      "text/plain": [
       "(158, 6)"
      ]
     },
     "execution_count": 24,
     "metadata": {},
     "output_type": "execute_result"
    }
   ],
   "source": [
    "df.shape"
   ]
  },
  {
   "cell_type": "code",
   "execution_count": 25,
   "metadata": {},
   "outputs": [
    {
     "data": {
      "text/html": [
       "<div>\n",
       "<style scoped>\n",
       "    .dataframe tbody tr th:only-of-type {\n",
       "        vertical-align: middle;\n",
       "    }\n",
       "\n",
       "    .dataframe tbody tr th {\n",
       "        vertical-align: top;\n",
       "    }\n",
       "\n",
       "    .dataframe thead th {\n",
       "        text-align: right;\n",
       "    }\n",
       "</style>\n",
       "<table border=\"1\" class=\"dataframe\">\n",
       "  <thead>\n",
       "    <tr style=\"text-align: right;\">\n",
       "      <th></th>\n",
       "      <th>index</th>\n",
       "      <th>Especies</th>\n",
       "      <th>Peso</th>\n",
       "      <th>CompDiag</th>\n",
       "      <th>Altura</th>\n",
       "      <th>Largura</th>\n",
       "    </tr>\n",
       "  </thead>\n",
       "  <tbody>\n",
       "    <tr>\n",
       "      <th>0</th>\n",
       "      <td>0</td>\n",
       "      <td>Bream</td>\n",
       "      <td>242.0</td>\n",
       "      <td>25.4</td>\n",
       "      <td>11.5200</td>\n",
       "      <td>4.0200</td>\n",
       "    </tr>\n",
       "    <tr>\n",
       "      <th>1</th>\n",
       "      <td>1</td>\n",
       "      <td>Bream</td>\n",
       "      <td>290.0</td>\n",
       "      <td>26.3</td>\n",
       "      <td>12.4800</td>\n",
       "      <td>4.3056</td>\n",
       "    </tr>\n",
       "    <tr>\n",
       "      <th>2</th>\n",
       "      <td>2</td>\n",
       "      <td>Bream</td>\n",
       "      <td>340.0</td>\n",
       "      <td>26.5</td>\n",
       "      <td>12.3778</td>\n",
       "      <td>4.6961</td>\n",
       "    </tr>\n",
       "    <tr>\n",
       "      <th>3</th>\n",
       "      <td>3</td>\n",
       "      <td>Bream</td>\n",
       "      <td>363.0</td>\n",
       "      <td>29.0</td>\n",
       "      <td>12.7300</td>\n",
       "      <td>4.4555</td>\n",
       "    </tr>\n",
       "    <tr>\n",
       "      <th>4</th>\n",
       "      <td>4</td>\n",
       "      <td>Bream</td>\n",
       "      <td>430.0</td>\n",
       "      <td>29.0</td>\n",
       "      <td>12.4440</td>\n",
       "      <td>5.1340</td>\n",
       "    </tr>\n",
       "    <tr>\n",
       "      <th>5</th>\n",
       "      <td>5</td>\n",
       "      <td>Bream</td>\n",
       "      <td>450.0</td>\n",
       "      <td>29.7</td>\n",
       "      <td>13.6024</td>\n",
       "      <td>4.9274</td>\n",
       "    </tr>\n",
       "    <tr>\n",
       "      <th>6</th>\n",
       "      <td>6</td>\n",
       "      <td>Bream</td>\n",
       "      <td>500.0</td>\n",
       "      <td>29.7</td>\n",
       "      <td>14.1795</td>\n",
       "      <td>5.2785</td>\n",
       "    </tr>\n",
       "    <tr>\n",
       "      <th>7</th>\n",
       "      <td>7</td>\n",
       "      <td>Bream</td>\n",
       "      <td>390.0</td>\n",
       "      <td>30.0</td>\n",
       "      <td>12.6700</td>\n",
       "      <td>4.6900</td>\n",
       "    </tr>\n",
       "    <tr>\n",
       "      <th>8</th>\n",
       "      <td>8</td>\n",
       "      <td>Bream</td>\n",
       "      <td>450.0</td>\n",
       "      <td>30.0</td>\n",
       "      <td>14.0049</td>\n",
       "      <td>4.8438</td>\n",
       "    </tr>\n",
       "    <tr>\n",
       "      <th>9</th>\n",
       "      <td>9</td>\n",
       "      <td>Bream</td>\n",
       "      <td>500.0</td>\n",
       "      <td>30.7</td>\n",
       "      <td>14.2266</td>\n",
       "      <td>4.9594</td>\n",
       "    </tr>\n",
       "    <tr>\n",
       "      <th>10</th>\n",
       "      <td>10</td>\n",
       "      <td>Bream</td>\n",
       "      <td>475.0</td>\n",
       "      <td>31.0</td>\n",
       "      <td>14.2628</td>\n",
       "      <td>5.1042</td>\n",
       "    </tr>\n",
       "    <tr>\n",
       "      <th>11</th>\n",
       "      <td>11</td>\n",
       "      <td>Bream</td>\n",
       "      <td>500.0</td>\n",
       "      <td>31.0</td>\n",
       "      <td>14.3714</td>\n",
       "      <td>4.8146</td>\n",
       "    </tr>\n",
       "    <tr>\n",
       "      <th>12</th>\n",
       "      <td>12</td>\n",
       "      <td>Bream</td>\n",
       "      <td>500.0</td>\n",
       "      <td>31.5</td>\n",
       "      <td>13.7592</td>\n",
       "      <td>4.3680</td>\n",
       "    </tr>\n",
       "    <tr>\n",
       "      <th>13</th>\n",
       "      <td>13</td>\n",
       "      <td>Bream</td>\n",
       "      <td>340.0</td>\n",
       "      <td>32.0</td>\n",
       "      <td>13.9129</td>\n",
       "      <td>5.0728</td>\n",
       "    </tr>\n",
       "    <tr>\n",
       "      <th>14</th>\n",
       "      <td>14</td>\n",
       "      <td>Bream</td>\n",
       "      <td>600.0</td>\n",
       "      <td>32.0</td>\n",
       "      <td>14.9544</td>\n",
       "      <td>5.1708</td>\n",
       "    </tr>\n",
       "    <tr>\n",
       "      <th>15</th>\n",
       "      <td>15</td>\n",
       "      <td>Bream</td>\n",
       "      <td>600.0</td>\n",
       "      <td>32.0</td>\n",
       "      <td>15.4380</td>\n",
       "      <td>5.5800</td>\n",
       "    </tr>\n",
       "    <tr>\n",
       "      <th>16</th>\n",
       "      <td>16</td>\n",
       "      <td>Bream</td>\n",
       "      <td>700.0</td>\n",
       "      <td>33.0</td>\n",
       "      <td>14.8604</td>\n",
       "      <td>5.2854</td>\n",
       "    </tr>\n",
       "    <tr>\n",
       "      <th>17</th>\n",
       "      <td>17</td>\n",
       "      <td>Bream</td>\n",
       "      <td>700.0</td>\n",
       "      <td>33.0</td>\n",
       "      <td>14.9380</td>\n",
       "      <td>5.1975</td>\n",
       "    </tr>\n",
       "    <tr>\n",
       "      <th>18</th>\n",
       "      <td>18</td>\n",
       "      <td>Bream</td>\n",
       "      <td>610.0</td>\n",
       "      <td>33.5</td>\n",
       "      <td>15.6330</td>\n",
       "      <td>5.1338</td>\n",
       "    </tr>\n",
       "    <tr>\n",
       "      <th>19</th>\n",
       "      <td>19</td>\n",
       "      <td>Bream</td>\n",
       "      <td>650.0</td>\n",
       "      <td>33.5</td>\n",
       "      <td>14.4738</td>\n",
       "      <td>5.7276</td>\n",
       "    </tr>\n",
       "    <tr>\n",
       "      <th>20</th>\n",
       "      <td>20</td>\n",
       "      <td>Bream</td>\n",
       "      <td>575.0</td>\n",
       "      <td>34.0</td>\n",
       "      <td>15.1285</td>\n",
       "      <td>5.5695</td>\n",
       "    </tr>\n",
       "    <tr>\n",
       "      <th>21</th>\n",
       "      <td>21</td>\n",
       "      <td>Bream</td>\n",
       "      <td>685.0</td>\n",
       "      <td>34.0</td>\n",
       "      <td>15.9936</td>\n",
       "      <td>5.3704</td>\n",
       "    </tr>\n",
       "    <tr>\n",
       "      <th>22</th>\n",
       "      <td>22</td>\n",
       "      <td>Bream</td>\n",
       "      <td>620.0</td>\n",
       "      <td>34.5</td>\n",
       "      <td>15.5227</td>\n",
       "      <td>5.2801</td>\n",
       "    </tr>\n",
       "    <tr>\n",
       "      <th>23</th>\n",
       "      <td>23</td>\n",
       "      <td>Bream</td>\n",
       "      <td>680.0</td>\n",
       "      <td>35.0</td>\n",
       "      <td>15.4686</td>\n",
       "      <td>6.1306</td>\n",
       "    </tr>\n",
       "    <tr>\n",
       "      <th>24</th>\n",
       "      <td>24</td>\n",
       "      <td>Bream</td>\n",
       "      <td>700.0</td>\n",
       "      <td>35.0</td>\n",
       "      <td>16.2405</td>\n",
       "      <td>5.5890</td>\n",
       "    </tr>\n",
       "    <tr>\n",
       "      <th>25</th>\n",
       "      <td>25</td>\n",
       "      <td>Bream</td>\n",
       "      <td>725.0</td>\n",
       "      <td>35.0</td>\n",
       "      <td>16.3600</td>\n",
       "      <td>6.0532</td>\n",
       "    </tr>\n",
       "    <tr>\n",
       "      <th>26</th>\n",
       "      <td>26</td>\n",
       "      <td>Bream</td>\n",
       "      <td>720.0</td>\n",
       "      <td>35.0</td>\n",
       "      <td>16.3618</td>\n",
       "      <td>6.0900</td>\n",
       "    </tr>\n",
       "    <tr>\n",
       "      <th>27</th>\n",
       "      <td>27</td>\n",
       "      <td>Bream</td>\n",
       "      <td>714.0</td>\n",
       "      <td>36.0</td>\n",
       "      <td>16.5170</td>\n",
       "      <td>5.8515</td>\n",
       "    </tr>\n",
       "    <tr>\n",
       "      <th>28</th>\n",
       "      <td>28</td>\n",
       "      <td>Bream</td>\n",
       "      <td>850.0</td>\n",
       "      <td>36.0</td>\n",
       "      <td>16.8896</td>\n",
       "      <td>6.1984</td>\n",
       "    </tr>\n",
       "    <tr>\n",
       "      <th>29</th>\n",
       "      <td>29</td>\n",
       "      <td>Bream</td>\n",
       "      <td>1000.0</td>\n",
       "      <td>37.0</td>\n",
       "      <td>18.9570</td>\n",
       "      <td>6.6030</td>\n",
       "    </tr>\n",
       "    <tr>\n",
       "      <th>30</th>\n",
       "      <td>30</td>\n",
       "      <td>Bream</td>\n",
       "      <td>920.0</td>\n",
       "      <td>38.5</td>\n",
       "      <td>18.0369</td>\n",
       "      <td>6.3063</td>\n",
       "    </tr>\n",
       "    <tr>\n",
       "      <th>31</th>\n",
       "      <td>31</td>\n",
       "      <td>Bream</td>\n",
       "      <td>955.0</td>\n",
       "      <td>38.5</td>\n",
       "      <td>18.0840</td>\n",
       "      <td>6.2920</td>\n",
       "    </tr>\n",
       "    <tr>\n",
       "      <th>32</th>\n",
       "      <td>32</td>\n",
       "      <td>Bream</td>\n",
       "      <td>925.0</td>\n",
       "      <td>39.5</td>\n",
       "      <td>18.7542</td>\n",
       "      <td>6.7497</td>\n",
       "    </tr>\n",
       "    <tr>\n",
       "      <th>33</th>\n",
       "      <td>33</td>\n",
       "      <td>Bream</td>\n",
       "      <td>975.0</td>\n",
       "      <td>41.0</td>\n",
       "      <td>18.6354</td>\n",
       "      <td>6.7473</td>\n",
       "    </tr>\n",
       "    <tr>\n",
       "      <th>34</th>\n",
       "      <td>34</td>\n",
       "      <td>Bream</td>\n",
       "      <td>950.0</td>\n",
       "      <td>41.0</td>\n",
       "      <td>17.6235</td>\n",
       "      <td>6.3705</td>\n",
       "    </tr>\n",
       "    <tr>\n",
       "      <th>35</th>\n",
       "      <td>35</td>\n",
       "      <td>Roach</td>\n",
       "      <td>40.0</td>\n",
       "      <td>14.1</td>\n",
       "      <td>4.1472</td>\n",
       "      <td>2.2680</td>\n",
       "    </tr>\n",
       "    <tr>\n",
       "      <th>36</th>\n",
       "      <td>36</td>\n",
       "      <td>Roach</td>\n",
       "      <td>69.0</td>\n",
       "      <td>18.2</td>\n",
       "      <td>5.2983</td>\n",
       "      <td>2.8217</td>\n",
       "    </tr>\n",
       "    <tr>\n",
       "      <th>37</th>\n",
       "      <td>37</td>\n",
       "      <td>Roach</td>\n",
       "      <td>78.0</td>\n",
       "      <td>18.8</td>\n",
       "      <td>5.5756</td>\n",
       "      <td>2.9044</td>\n",
       "    </tr>\n",
       "    <tr>\n",
       "      <th>38</th>\n",
       "      <td>38</td>\n",
       "      <td>Roach</td>\n",
       "      <td>87.0</td>\n",
       "      <td>19.8</td>\n",
       "      <td>5.6166</td>\n",
       "      <td>3.1746</td>\n",
       "    </tr>\n",
       "    <tr>\n",
       "      <th>39</th>\n",
       "      <td>39</td>\n",
       "      <td>Roach</td>\n",
       "      <td>120.0</td>\n",
       "      <td>20.0</td>\n",
       "      <td>6.2160</td>\n",
       "      <td>3.5742</td>\n",
       "    </tr>\n",
       "    <tr>\n",
       "      <th>40</th>\n",
       "      <td>41</td>\n",
       "      <td>Roach</td>\n",
       "      <td>110.0</td>\n",
       "      <td>20.8</td>\n",
       "      <td>6.1677</td>\n",
       "      <td>3.3957</td>\n",
       "    </tr>\n",
       "    <tr>\n",
       "      <th>41</th>\n",
       "      <td>42</td>\n",
       "      <td>Roach</td>\n",
       "      <td>120.0</td>\n",
       "      <td>21.0</td>\n",
       "      <td>6.1146</td>\n",
       "      <td>3.2943</td>\n",
       "    </tr>\n",
       "  </tbody>\n",
       "</table>\n",
       "</div>"
      ],
      "text/plain": [
       "    index Especies    Peso  CompDiag   Altura  Largura\n",
       "0       0    Bream   242.0      25.4  11.5200   4.0200\n",
       "1       1    Bream   290.0      26.3  12.4800   4.3056\n",
       "2       2    Bream   340.0      26.5  12.3778   4.6961\n",
       "3       3    Bream   363.0      29.0  12.7300   4.4555\n",
       "4       4    Bream   430.0      29.0  12.4440   5.1340\n",
       "5       5    Bream   450.0      29.7  13.6024   4.9274\n",
       "6       6    Bream   500.0      29.7  14.1795   5.2785\n",
       "7       7    Bream   390.0      30.0  12.6700   4.6900\n",
       "8       8    Bream   450.0      30.0  14.0049   4.8438\n",
       "9       9    Bream   500.0      30.7  14.2266   4.9594\n",
       "10     10    Bream   475.0      31.0  14.2628   5.1042\n",
       "11     11    Bream   500.0      31.0  14.3714   4.8146\n",
       "12     12    Bream   500.0      31.5  13.7592   4.3680\n",
       "13     13    Bream   340.0      32.0  13.9129   5.0728\n",
       "14     14    Bream   600.0      32.0  14.9544   5.1708\n",
       "15     15    Bream   600.0      32.0  15.4380   5.5800\n",
       "16     16    Bream   700.0      33.0  14.8604   5.2854\n",
       "17     17    Bream   700.0      33.0  14.9380   5.1975\n",
       "18     18    Bream   610.0      33.5  15.6330   5.1338\n",
       "19     19    Bream   650.0      33.5  14.4738   5.7276\n",
       "20     20    Bream   575.0      34.0  15.1285   5.5695\n",
       "21     21    Bream   685.0      34.0  15.9936   5.3704\n",
       "22     22    Bream   620.0      34.5  15.5227   5.2801\n",
       "23     23    Bream   680.0      35.0  15.4686   6.1306\n",
       "24     24    Bream   700.0      35.0  16.2405   5.5890\n",
       "25     25    Bream   725.0      35.0  16.3600   6.0532\n",
       "26     26    Bream   720.0      35.0  16.3618   6.0900\n",
       "27     27    Bream   714.0      36.0  16.5170   5.8515\n",
       "28     28    Bream   850.0      36.0  16.8896   6.1984\n",
       "29     29    Bream  1000.0      37.0  18.9570   6.6030\n",
       "30     30    Bream   920.0      38.5  18.0369   6.3063\n",
       "31     31    Bream   955.0      38.5  18.0840   6.2920\n",
       "32     32    Bream   925.0      39.5  18.7542   6.7497\n",
       "33     33    Bream   975.0      41.0  18.6354   6.7473\n",
       "34     34    Bream   950.0      41.0  17.6235   6.3705\n",
       "35     35    Roach    40.0      14.1   4.1472   2.2680\n",
       "36     36    Roach    69.0      18.2   5.2983   2.8217\n",
       "37     37    Roach    78.0      18.8   5.5756   2.9044\n",
       "38     38    Roach    87.0      19.8   5.6166   3.1746\n",
       "39     39    Roach   120.0      20.0   6.2160   3.5742\n",
       "40     41    Roach   110.0      20.8   6.1677   3.3957\n",
       "41     42    Roach   120.0      21.0   6.1146   3.2943"
      ]
     },
     "execution_count": 25,
     "metadata": {},
     "output_type": "execute_result"
    }
   ],
   "source": [
    "df.head(42)"
   ]
  },
  {
   "cell_type": "code",
   "execution_count": 26,
   "metadata": {},
   "outputs": [],
   "source": [
    "df.drop(columns = [ 'index'], inplace = True)"
   ]
  },
  {
   "cell_type": "code",
   "execution_count": 27,
   "metadata": {},
   "outputs": [
    {
     "data": {
      "text/plain": [
       "<matplotlib.axes._subplots.AxesSubplot at 0x1ec386a5cc8>"
      ]
     },
     "execution_count": 27,
     "metadata": {},
     "output_type": "execute_result"
    },
    {
     "data": {
      "image/png": "[encoded data removed]",
      "text/plain": [
       "<Figure size 576x360 with 1 Axes>"
      ]
     },
     "metadata": {},
     "output_type": "display_data"
    }
   ],
   "source": [
    "# Boxplot das variáveis\n",
    "plt.figure(figsize = (8,5))\n",
    "sns.boxplot(x=df.Peso, color= 'green')"
   ]
  },
  {
   "cell_type": "code",
   "execution_count": 28,
   "metadata": {},
   "outputs": [
    {
     "data": {
      "text/plain": [
       "143    1650.0\n",
       "141    1600.0\n",
       "142    1550.0\n",
       "140    1250.0\n",
       "122    1100.0\n",
       "124    1100.0\n",
       "120    1015.0\n",
       "29     1000.0\n",
       "Name: Peso, dtype: float64"
      ]
     },
     "execution_count": 28,
     "metadata": {},
     "output_type": "execute_result"
    }
   ],
   "source": [
    "df.Peso.nlargest(8)"
   ]
  },
  {
   "cell_type": "code",
   "execution_count": 29,
   "metadata": {},
   "outputs": [
    {
     "data": {
      "text/html": [
       "<div>\n",
       "<style scoped>\n",
       "    .dataframe tbody tr th:only-of-type {\n",
       "        vertical-align: middle;\n",
       "    }\n",
       "\n",
       "    .dataframe tbody tr th {\n",
       "        vertical-align: top;\n",
       "    }\n",
       "\n",
       "    .dataframe thead th {\n",
       "        text-align: right;\n",
       "    }\n",
       "</style>\n",
       "<table border=\"1\" class=\"dataframe\">\n",
       "  <thead>\n",
       "    <tr style=\"text-align: right;\">\n",
       "      <th></th>\n",
       "      <th>Especies</th>\n",
       "      <th>Peso</th>\n",
       "      <th>CompDiag</th>\n",
       "      <th>Altura</th>\n",
       "      <th>Largura</th>\n",
       "    </tr>\n",
       "  </thead>\n",
       "  <tbody>\n",
       "    <tr>\n",
       "      <th>141</th>\n",
       "      <td>Pike</td>\n",
       "      <td>1600.0</td>\n",
       "      <td>60.0</td>\n",
       "      <td>9.600</td>\n",
       "      <td>6.144</td>\n",
       "    </tr>\n",
       "    <tr>\n",
       "      <th>142</th>\n",
       "      <td>Pike</td>\n",
       "      <td>1550.0</td>\n",
       "      <td>60.0</td>\n",
       "      <td>9.600</td>\n",
       "      <td>6.144</td>\n",
       "    </tr>\n",
       "    <tr>\n",
       "      <th>143</th>\n",
       "      <td>Pike</td>\n",
       "      <td>1650.0</td>\n",
       "      <td>63.4</td>\n",
       "      <td>10.812</td>\n",
       "      <td>7.480</td>\n",
       "    </tr>\n",
       "  </tbody>\n",
       "</table>\n",
       "</div>"
      ],
      "text/plain": [
       "    Especies    Peso  CompDiag  Altura  Largura\n",
       "141     Pike  1600.0      60.0   9.600    6.144\n",
       "142     Pike  1550.0      60.0   9.600    6.144\n",
       "143     Pike  1650.0      63.4  10.812    7.480"
      ]
     },
     "execution_count": 29,
     "metadata": {},
     "output_type": "execute_result"
    }
   ],
   "source": [
    "df[(df['Peso']> 1500)]"
   ]
  },
  {
   "cell_type": "code",
   "execution_count": 30,
   "metadata": {},
   "outputs": [
    {
     "data": {
      "text/plain": [
       "array([3.36307755, 3.22285029, 3.50330482])"
      ]
     },
     "execution_count": 30,
     "metadata": {},
     "output_type": "execute_result"
    }
   ],
   "source": [
    "# Utilizando o z-score para classificá-lo como outlier ou não. valores acima de |3| serão considerados outliers\n",
    "stats.zscore(df.Peso)[141:144]"
   ]
  },
  {
   "cell_type": "code",
   "execution_count": 31,
   "metadata": {},
   "outputs": [],
   "source": [
    "# Irei remover esses registro outliers\n",
    "df.drop([141,142,143], inplace = True)"
   ]
  },
  {
   "cell_type": "code",
   "execution_count": 32,
   "metadata": {},
   "outputs": [],
   "source": [
    "# Resetando index\n",
    "df.reset_index(inplace = True, drop = True)"
   ]
  },
  {
   "cell_type": "code",
   "execution_count": 33,
   "metadata": {},
   "outputs": [
    {
     "data": {
      "text/plain": [
       "(155, 5)"
      ]
     },
     "execution_count": 33,
     "metadata": {},
     "output_type": "execute_result"
    }
   ],
   "source": [
    "df.shape"
   ]
  },
  {
   "cell_type": "code",
   "execution_count": 34,
   "metadata": {},
   "outputs": [
    {
     "data": {
      "text/plain": [
       "<matplotlib.axes._subplots.AxesSubplot at 0x1ec38b3bfc8>"
      ]
     },
     "execution_count": 34,
     "metadata": {},
     "output_type": "execute_result"
    },
    {
     "data": {
      "image/png": "[encoded data removed]",
      "text/plain": [
       "<Figure size 576x360 with 1 Axes>"
      ]
     },
     "metadata": {},
     "output_type": "display_data"
    }
   ],
   "source": [
    "# Visualizando o boxplot novamente\n",
    "plt.figure(figsize = (8,5))\n",
    "sns.boxplot(x=df.Peso, color= 'green')"
   ]
  },
  {
   "cell_type": "code",
   "execution_count": 35,
   "metadata": {},
   "outputs": [
    {
     "data": {
      "text/plain": [
       "Index(['Especies', 'Peso', 'CompDiag', 'Altura', 'Largura'], dtype='object')"
      ]
     },
     "execution_count": 35,
     "metadata": {},
     "output_type": "execute_result"
    }
   ],
   "source": [
    "df.columns"
   ]
  },
  {
   "cell_type": "code",
   "execution_count": 36,
   "metadata": {},
   "outputs": [
    {
     "name": "stderr",
     "output_type": "stream",
     "text": [
      "c:\\Users\\rafae\\anaconda3\\lib\\site-packages\\seaborn\\_decorators.py:43: FutureWarning: Pass the following variable as a keyword arg: x. From version 0.12, the only valid positional argument will be `data`, and passing other arguments without an explicit keyword will result in an error or misinterpretation.\n",
      "  FutureWarning\n"
     ]
    },
    {
     "data": {
      "image/png": "[encoded data removed]",
      "text/plain": [
       "<Figure size 576x360 with 1 Axes>"
      ]
     },
     "metadata": {},
     "output_type": "display_data"
    }
   ],
   "source": [
    "# Boxplot do Comprimento diagonal. Não há outliers\n",
    "plt.figure(figsize = (8,5))\n",
    "sns.boxplot(df['CompDiag'], color= 'green')\n",
    "plt.show()"
   ]
  },
  {
   "cell_type": "code",
   "execution_count": 37,
   "metadata": {},
   "outputs": [
    {
     "name": "stderr",
     "output_type": "stream",
     "text": [
      "c:\\Users\\rafae\\anaconda3\\lib\\site-packages\\seaborn\\_decorators.py:43: FutureWarning: Pass the following variable as a keyword arg: x. From version 0.12, the only valid positional argument will be `data`, and passing other arguments without an explicit keyword will result in an error or misinterpretation.\n",
      "  FutureWarning\n"
     ]
    },
    {
     "data": {
      "image/png": "[encoded data removed]",
      "text/plain": [
       "<Figure size 576x360 with 1 Axes>"
      ]
     },
     "metadata": {},
     "output_type": "display_data"
    }
   ],
   "source": [
    "# Boxplot da altura. Não há outliers\n",
    "plt.figure(figsize = (8,5))\n",
    "sns.boxplot(df.Altura, color= 'green')\n",
    "plt.show()"
   ]
  },
  {
   "cell_type": "code",
   "execution_count": 38,
   "metadata": {},
   "outputs": [
    {
     "name": "stderr",
     "output_type": "stream",
     "text": [
      "c:\\Users\\rafae\\anaconda3\\lib\\site-packages\\seaborn\\_decorators.py:43: FutureWarning: Pass the following variable as a keyword arg: x. From version 0.12, the only valid positional argument will be `data`, and passing other arguments without an explicit keyword will result in an error or misinterpretation.\n",
      "  FutureWarning\n"
     ]
    },
    {
     "data": {
      "image/png": "[encoded data removed]",
      "text/plain": [
       "<Figure size 576x360 with 1 Axes>"
      ]
     },
     "metadata": {},
     "output_type": "display_data"
    }
   ],
   "source": [
    "# Boxplot da Largura. Não há outliers\n",
    "plt.figure(figsize = (8,5))\n",
    "sns.boxplot(df.Largura, color= 'green')\n",
    "plt.show()"
   ]
  },
  {
   "cell_type": "markdown",
   "metadata": {},
   "source": [
    "# Pré-Processamento de dados para construção do Modelo de Machine Learning"
   ]
  },
  {
   "cell_type": "markdown",
   "metadata": {},
   "source": [
    "### One-Hot Encoding ###"
   ]
  },
  {
   "cell_type": "code",
   "execution_count": 39,
   "metadata": {},
   "outputs": [],
   "source": [
    "# Aplicando One-Hot Encoding\n",
    "onehot = pd.get_dummies(df['Especies'], prefix = 'specie')"
   ]
  },
  {
   "cell_type": "code",
   "execution_count": 40,
   "metadata": {},
   "outputs": [
    {
     "data": {
      "text/html": [
       "<div>\n",
       "<style scoped>\n",
       "    .dataframe tbody tr th:only-of-type {\n",
       "        vertical-align: middle;\n",
       "    }\n",
       "\n",
       "    .dataframe tbody tr th {\n",
       "        vertical-align: top;\n",
       "    }\n",
       "\n",
       "    .dataframe thead th {\n",
       "        text-align: right;\n",
       "    }\n",
       "</style>\n",
       "<table border=\"1\" class=\"dataframe\">\n",
       "  <thead>\n",
       "    <tr style=\"text-align: right;\">\n",
       "      <th></th>\n",
       "      <th>Especies</th>\n",
       "      <th>Peso</th>\n",
       "      <th>CompDiag</th>\n",
       "      <th>Altura</th>\n",
       "      <th>Largura</th>\n",
       "      <th>specie_Bream</th>\n",
       "      <th>specie_Parkki</th>\n",
       "      <th>specie_Perch</th>\n",
       "      <th>specie_Pike</th>\n",
       "      <th>specie_Roach</th>\n",
       "      <th>specie_Smelt</th>\n",
       "      <th>specie_Whitefish</th>\n",
       "    </tr>\n",
       "  </thead>\n",
       "  <tbody>\n",
       "    <tr>\n",
       "      <th>0</th>\n",
       "      <td>Bream</td>\n",
       "      <td>242.0</td>\n",
       "      <td>25.4</td>\n",
       "      <td>11.5200</td>\n",
       "      <td>4.0200</td>\n",
       "      <td>1</td>\n",
       "      <td>0</td>\n",
       "      <td>0</td>\n",
       "      <td>0</td>\n",
       "      <td>0</td>\n",
       "      <td>0</td>\n",
       "      <td>0</td>\n",
       "    </tr>\n",
       "    <tr>\n",
       "      <th>1</th>\n",
       "      <td>Bream</td>\n",
       "      <td>290.0</td>\n",
       "      <td>26.3</td>\n",
       "      <td>12.4800</td>\n",
       "      <td>4.3056</td>\n",
       "      <td>1</td>\n",
       "      <td>0</td>\n",
       "      <td>0</td>\n",
       "      <td>0</td>\n",
       "      <td>0</td>\n",
       "      <td>0</td>\n",
       "      <td>0</td>\n",
       "    </tr>\n",
       "    <tr>\n",
       "      <th>2</th>\n",
       "      <td>Bream</td>\n",
       "      <td>340.0</td>\n",
       "      <td>26.5</td>\n",
       "      <td>12.3778</td>\n",
       "      <td>4.6961</td>\n",
       "      <td>1</td>\n",
       "      <td>0</td>\n",
       "      <td>0</td>\n",
       "      <td>0</td>\n",
       "      <td>0</td>\n",
       "      <td>0</td>\n",
       "      <td>0</td>\n",
       "    </tr>\n",
       "    <tr>\n",
       "      <th>3</th>\n",
       "      <td>Bream</td>\n",
       "      <td>363.0</td>\n",
       "      <td>29.0</td>\n",
       "      <td>12.7300</td>\n",
       "      <td>4.4555</td>\n",
       "      <td>1</td>\n",
       "      <td>0</td>\n",
       "      <td>0</td>\n",
       "      <td>0</td>\n",
       "      <td>0</td>\n",
       "      <td>0</td>\n",
       "      <td>0</td>\n",
       "    </tr>\n",
       "    <tr>\n",
       "      <th>4</th>\n",
       "      <td>Bream</td>\n",
       "      <td>430.0</td>\n",
       "      <td>29.0</td>\n",
       "      <td>12.4440</td>\n",
       "      <td>5.1340</td>\n",
       "      <td>1</td>\n",
       "      <td>0</td>\n",
       "      <td>0</td>\n",
       "      <td>0</td>\n",
       "      <td>0</td>\n",
       "      <td>0</td>\n",
       "      <td>0</td>\n",
       "    </tr>\n",
       "  </tbody>\n",
       "</table>\n",
       "</div>"
      ],
      "text/plain": [
       "  Especies   Peso  CompDiag   Altura  Largura  specie_Bream  specie_Parkki  \\\n",
       "0    Bream  242.0      25.4  11.5200   4.0200             1              0   \n",
       "1    Bream  290.0      26.3  12.4800   4.3056             1              0   \n",
       "2    Bream  340.0      26.5  12.3778   4.6961             1              0   \n",
       "3    Bream  363.0      29.0  12.7300   4.4555             1              0   \n",
       "4    Bream  430.0      29.0  12.4440   5.1340             1              0   \n",
       "\n",
       "   specie_Perch  specie_Pike  specie_Roach  specie_Smelt  specie_Whitefish  \n",
       "0             0            0             0             0                 0  \n",
       "1             0            0             0             0                 0  \n",
       "2             0            0             0             0                 0  \n",
       "3             0            0             0             0                 0  \n",
       "4             0            0             0             0                 0  "
      ]
     },
     "execution_count": 40,
     "metadata": {},
     "output_type": "execute_result"
    }
   ],
   "source": [
    "df = df.join(onehot)\n",
    "df.head()"
   ]
  },
  {
   "cell_type": "code",
   "execution_count": null,
   "metadata": {},
   "outputs": [],
   "source": []
  },
  {
   "cell_type": "code",
   "execution_count": 41,
   "metadata": {},
   "outputs": [
    {
     "data": {
      "text/html": [
       "<div>\n",
       "<style scoped>\n",
       "    .dataframe tbody tr th:only-of-type {\n",
       "        vertical-align: middle;\n",
       "    }\n",
       "\n",
       "    .dataframe tbody tr th {\n",
       "        vertical-align: top;\n",
       "    }\n",
       "\n",
       "    .dataframe thead th {\n",
       "        text-align: right;\n",
       "    }\n",
       "</style>\n",
       "<table border=\"1\" class=\"dataframe\">\n",
       "  <thead>\n",
       "    <tr style=\"text-align: right;\">\n",
       "      <th></th>\n",
       "      <th>Peso</th>\n",
       "      <th>CompDiag</th>\n",
       "      <th>Altura</th>\n",
       "      <th>Largura</th>\n",
       "      <th>specie_Bream</th>\n",
       "      <th>specie_Parkki</th>\n",
       "      <th>specie_Perch</th>\n",
       "      <th>specie_Pike</th>\n",
       "      <th>specie_Roach</th>\n",
       "      <th>specie_Smelt</th>\n",
       "      <th>specie_Whitefish</th>\n",
       "    </tr>\n",
       "  </thead>\n",
       "  <tbody>\n",
       "    <tr>\n",
       "      <th>85</th>\n",
       "      <td>120.0</td>\n",
       "      <td>22.0</td>\n",
       "      <td>6.11</td>\n",
       "      <td>3.4075</td>\n",
       "      <td>0</td>\n",
       "      <td>0</td>\n",
       "      <td>1</td>\n",
       "      <td>0</td>\n",
       "      <td>0</td>\n",
       "      <td>0</td>\n",
       "      <td>0</td>\n",
       "    </tr>\n",
       "  </tbody>\n",
       "</table>\n",
       "</div>"
      ],
      "text/plain": [
       "     Peso  CompDiag  Altura  Largura  specie_Bream  specie_Parkki  \\\n",
       "85  120.0      22.0    6.11   3.4075             0              0   \n",
       "\n",
       "    specie_Perch  specie_Pike  specie_Roach  specie_Smelt  specie_Whitefish  \n",
       "85             1            0             0             0                 0  "
      ]
     },
     "execution_count": 41,
     "metadata": {},
     "output_type": "execute_result"
    }
   ],
   "source": [
    "# Removendo a variável inicial\n",
    "df.drop(columns = ['Especies'], inplace = True)\n",
    "df.sample()"
   ]
  },
  {
   "cell_type": "markdown",
   "metadata": {},
   "source": [
    "### Separando os dados em treino e teste ###"
   ]
  },
  {
   "cell_type": "code",
   "execution_count": 42,
   "metadata": {},
   "outputs": [
    {
     "data": {
      "text/html": [
       "<div>\n",
       "<style scoped>\n",
       "    .dataframe tbody tr th:only-of-type {\n",
       "        vertical-align: middle;\n",
       "    }\n",
       "\n",
       "    .dataframe tbody tr th {\n",
       "        vertical-align: top;\n",
       "    }\n",
       "\n",
       "    .dataframe thead th {\n",
       "        text-align: right;\n",
       "    }\n",
       "</style>\n",
       "<table border=\"1\" class=\"dataframe\">\n",
       "  <thead>\n",
       "    <tr style=\"text-align: right;\">\n",
       "      <th></th>\n",
       "      <th>Peso</th>\n",
       "      <th>CompDiag</th>\n",
       "      <th>Altura</th>\n",
       "      <th>Largura</th>\n",
       "      <th>specie_Bream</th>\n",
       "      <th>specie_Parkki</th>\n",
       "      <th>specie_Perch</th>\n",
       "      <th>specie_Pike</th>\n",
       "      <th>specie_Roach</th>\n",
       "      <th>specie_Smelt</th>\n",
       "      <th>specie_Whitefish</th>\n",
       "    </tr>\n",
       "  </thead>\n",
       "  <tbody>\n",
       "    <tr>\n",
       "      <th>102</th>\n",
       "      <td>260.0</td>\n",
       "      <td>27.5</td>\n",
       "      <td>7.1672</td>\n",
       "      <td>4.3350</td>\n",
       "      <td>0</td>\n",
       "      <td>0</td>\n",
       "      <td>1</td>\n",
       "      <td>0</td>\n",
       "      <td>0</td>\n",
       "      <td>0</td>\n",
       "      <td>0</td>\n",
       "    </tr>\n",
       "    <tr>\n",
       "      <th>2</th>\n",
       "      <td>340.0</td>\n",
       "      <td>26.5</td>\n",
       "      <td>12.3778</td>\n",
       "      <td>4.6961</td>\n",
       "      <td>1</td>\n",
       "      <td>0</td>\n",
       "      <td>0</td>\n",
       "      <td>0</td>\n",
       "      <td>0</td>\n",
       "      <td>0</td>\n",
       "      <td>0</td>\n",
       "    </tr>\n",
       "    <tr>\n",
       "      <th>20</th>\n",
       "      <td>575.0</td>\n",
       "      <td>34.0</td>\n",
       "      <td>15.1285</td>\n",
       "      <td>5.5695</td>\n",
       "      <td>1</td>\n",
       "      <td>0</td>\n",
       "      <td>0</td>\n",
       "      <td>0</td>\n",
       "      <td>0</td>\n",
       "      <td>0</td>\n",
       "      <td>0</td>\n",
       "    </tr>\n",
       "    <tr>\n",
       "      <th>119</th>\n",
       "      <td>900.0</td>\n",
       "      <td>40.0</td>\n",
       "      <td>11.7300</td>\n",
       "      <td>7.2250</td>\n",
       "      <td>0</td>\n",
       "      <td>0</td>\n",
       "      <td>1</td>\n",
       "      <td>0</td>\n",
       "      <td>0</td>\n",
       "      <td>0</td>\n",
       "      <td>0</td>\n",
       "    </tr>\n",
       "    <tr>\n",
       "      <th>94</th>\n",
       "      <td>170.0</td>\n",
       "      <td>23.5</td>\n",
       "      <td>6.2750</td>\n",
       "      <td>3.7250</td>\n",
       "      <td>0</td>\n",
       "      <td>0</td>\n",
       "      <td>1</td>\n",
       "      <td>0</td>\n",
       "      <td>0</td>\n",
       "      <td>0</td>\n",
       "      <td>0</td>\n",
       "    </tr>\n",
       "  </tbody>\n",
       "</table>\n",
       "</div>"
      ],
      "text/plain": [
       "      Peso  CompDiag   Altura  Largura  specie_Bream  specie_Parkki  \\\n",
       "102  260.0      27.5   7.1672   4.3350             0              0   \n",
       "2    340.0      26.5  12.3778   4.6961             1              0   \n",
       "20   575.0      34.0  15.1285   5.5695             1              0   \n",
       "119  900.0      40.0  11.7300   7.2250             0              0   \n",
       "94   170.0      23.5   6.2750   3.7250             0              0   \n",
       "\n",
       "     specie_Perch  specie_Pike  specie_Roach  specie_Smelt  specie_Whitefish  \n",
       "102             1            0             0             0                 0  \n",
       "2               0            0             0             0                 0  \n",
       "20              0            0             0             0                 0  \n",
       "119             1            0             0             0                 0  \n",
       "94              1            0             0             0                 0  "
      ]
     },
     "execution_count": 42,
     "metadata": {},
     "output_type": "execute_result"
    }
   ],
   "source": [
    "df.sample(5)"
   ]
  },
  {
   "cell_type": "code",
   "execution_count": 43,
   "metadata": {},
   "outputs": [],
   "source": [
    "X = df.loc[:, df.columns != 'Peso']"
   ]
  },
  {
   "cell_type": "code",
   "execution_count": 44,
   "metadata": {},
   "outputs": [],
   "source": [
    "Y = df.Peso"
   ]
  },
  {
   "cell_type": "code",
   "execution_count": 45,
   "metadata": {},
   "outputs": [
    {
     "name": "stdout",
     "output_type": "stream",
     "text": [
      "   CompDiag   Altura  Largura  specie_Bream  specie_Parkki  specie_Perch  \\\n",
      "0      25.4  11.5200   4.0200             1              0             0   \n",
      "1      26.3  12.4800   4.3056             1              0             0   \n",
      "2      26.5  12.3778   4.6961             1              0             0   \n",
      "3      29.0  12.7300   4.4555             1              0             0   \n",
      "4      29.0  12.4440   5.1340             1              0             0   \n",
      "\n",
      "   specie_Pike  specie_Roach  specie_Smelt  specie_Whitefish  \n",
      "0            0             0             0                 0  \n",
      "1            0             0             0                 0  \n",
      "2            0             0             0                 0  \n",
      "3            0             0             0                 0  \n",
      "4            0             0             0                 0  \n"
     ]
    }
   ],
   "source": [
    "print(X[:5])"
   ]
  },
  {
   "cell_type": "code",
   "execution_count": 46,
   "metadata": {},
   "outputs": [
    {
     "name": "stdout",
     "output_type": "stream",
     "text": [
      "0    242.0\n",
      "1    290.0\n",
      "2    340.0\n",
      "3    363.0\n",
      "4    430.0\n",
      "Name: Peso, dtype: float64\n"
     ]
    }
   ],
   "source": [
    "print(Y[:5])"
   ]
  },
  {
   "cell_type": "code",
   "execution_count": 47,
   "metadata": {},
   "outputs": [],
   "source": [
    "X_treino, X_teste, Y_treino, Y_teste = train_test_split(X, Y, test_size = 0.3)"
   ]
  },
  {
   "cell_type": "code",
   "execution_count": 48,
   "metadata": {},
   "outputs": [
    {
     "name": "stdout",
     "output_type": "stream",
     "text": [
      "(108, 10)\n",
      "(47, 10)\n"
     ]
    }
   ],
   "source": [
    "print(X_treino.shape)\n",
    "print(X_teste.shape)"
   ]
  },
  {
   "cell_type": "markdown",
   "metadata": {},
   "source": [
    "### Padronização ###"
   ]
  },
  {
   "cell_type": "markdown",
   "metadata": {},
   "source": [
    "Distribuição das variáveis"
   ]
  },
  {
   "cell_type": "code",
   "execution_count": 49,
   "metadata": {},
   "outputs": [
    {
     "data": {
      "text/plain": [
       "Index(['Peso', 'CompDiag', 'Altura', 'Largura', 'specie_Bream',\n",
       "       'specie_Parkki', 'specie_Perch', 'specie_Pike', 'specie_Roach',\n",
       "       'specie_Smelt', 'specie_Whitefish'],\n",
       "      dtype='object')"
      ]
     },
     "execution_count": 49,
     "metadata": {},
     "output_type": "execute_result"
    }
   ],
   "source": [
    "df.columns"
   ]
  },
  {
   "cell_type": "code",
   "execution_count": 50,
   "metadata": {},
   "outputs": [
    {
     "data": {
      "image/png": "[encoded data removed]",
      "text/plain": [
       "<Figure size 1080x720 with 4 Axes>"
      ]
     },
     "metadata": {},
     "output_type": "display_data"
    }
   ],
   "source": [
    "plt.figure(figsize = (15,10))\n",
    "colunas = ['Peso', 'CompDiag', 'Altura', 'Largura']\n",
    "\n",
    "for i in range(0, len(colunas)):\n",
    "    \n",
    "    plt.subplot(2, 2, i+1)\n",
    "\n",
    "    sns.histplot(data = df, x = df[colunas[i]] ,color = 'green', kde= True, bins = 15 )"
   ]
  },
  {
   "cell_type": "code",
   "execution_count": 51,
   "metadata": {},
   "outputs": [],
   "source": [
    "# Padronizar os dados\n",
    "scaler = StandardScaler()"
   ]
  },
  {
   "cell_type": "code",
   "execution_count": 52,
   "metadata": {},
   "outputs": [
    {
     "data": {
      "text/plain": [
       "StandardScaler()"
      ]
     },
     "execution_count": 52,
     "metadata": {},
     "output_type": "execute_result"
    }
   ],
   "source": [
    "scaler.fit(X_treino)"
   ]
  },
  {
   "cell_type": "code",
   "execution_count": 53,
   "metadata": {},
   "outputs": [],
   "source": [
    "X_treino = scaler.transform(X_treino)"
   ]
  },
  {
   "cell_type": "code",
   "execution_count": 54,
   "metadata": {},
   "outputs": [],
   "source": [
    "X_teste = scaler.transform(X_teste)"
   ]
  },
  {
   "cell_type": "code",
   "execution_count": 55,
   "metadata": {},
   "outputs": [
    {
     "data": {
      "text/plain": [
       "array([[-1.38229746, -1.22417854, -1.37732364, -0.52018096, -0.2632621 ,\n",
       "         1.30384048, -0.31943828, -0.40160966, -0.31943828, -0.16903085],\n",
       "       [-1.14118349, -0.98038764, -1.0110591 , -0.52018096, -0.2632621 ,\n",
       "         1.30384048, -0.31943828, -0.40160966, -0.31943828, -0.16903085],\n",
       "       [ 1.15422151,  0.8034728 ,  1.78677573, -0.52018096, -0.2632621 ,\n",
       "         1.30384048, -0.31943828, -0.40160966, -0.31943828, -0.16903085],\n",
       "       [ 0.67199357,  1.71487148,  0.97061508,  1.92240791, -0.2632621 ,\n",
       "        -0.76696499, -0.31943828, -0.40160966, -0.31943828, -0.16903085],\n",
       "       [ 0.67199357,  1.71528376,  0.99192839,  1.92240791, -0.2632621 ,\n",
       "        -0.76696499, -0.31943828, -0.40160966, -0.31943828, -0.16903085]])"
      ]
     },
     "execution_count": 55,
     "metadata": {},
     "output_type": "execute_result"
    }
   ],
   "source": [
    "X_treino[:5]"
   ]
  },
  {
   "cell_type": "code",
   "execution_count": 56,
   "metadata": {},
   "outputs": [
    {
     "data": {
      "text/plain": [
       "array([[-0.58179908, -0.74044462, -0.49363225, -0.52018096, -0.2632621 ,\n",
       "         1.30384048, -0.31943828, -0.40160966, -0.31943828, -0.16903085],\n",
       "       [-1.68127879, -1.63636015, -1.87007802, -0.52018096, -0.2632621 ,\n",
       "        -0.76696499, -0.31943828, -0.40160966,  3.13049517, -0.16903085],\n",
       "       [ 1.00955312, -0.56728987, -0.23184924, -0.52018096, -0.2632621 ,\n",
       "        -0.76696499,  3.13049517, -0.40160966, -0.31943828, -0.16903085],\n",
       "       [-0.07063746, -0.12592848,  0.440157  , -0.52018096, -0.2632621 ,\n",
       "         1.30384048, -0.31943828, -0.40160966, -0.31943828, -0.16903085],\n",
       "       [ 1.63644945, -0.43811092,  0.30040426, -0.52018096, -0.2632621 ,\n",
       "        -0.76696499,  3.13049517, -0.40160966, -0.31943828, -0.16903085]])"
      ]
     },
     "execution_count": 56,
     "metadata": {},
     "output_type": "execute_result"
    }
   ],
   "source": [
    "X_teste[:5]"
   ]
  },
  {
   "cell_type": "markdown",
   "metadata": {},
   "source": [
    "### Criação do Modelo de Regressão Linear"
   ]
  },
  {
   "cell_type": "code",
   "execution_count": 57,
   "metadata": {},
   "outputs": [],
   "source": [
    "modelo1 = LinearRegression()"
   ]
  },
  {
   "cell_type": "code",
   "execution_count": 58,
   "metadata": {},
   "outputs": [
    {
     "data": {
      "text/plain": [
       "LinearRegression()"
      ]
     },
     "execution_count": 58,
     "metadata": {},
     "output_type": "execute_result"
    }
   ],
   "source": [
    "# Treinando o modelo\n",
    "modelo1.fit(X_treino, Y_treino)"
   ]
  },
  {
   "cell_type": "code",
   "execution_count": 59,
   "metadata": {},
   "outputs": [
    {
     "data": {
      "text/html": [
       "<div>\n",
       "<style scoped>\n",
       "    .dataframe tbody tr th:only-of-type {\n",
       "        vertical-align: middle;\n",
       "    }\n",
       "\n",
       "    .dataframe tbody tr th {\n",
       "        vertical-align: top;\n",
       "    }\n",
       "\n",
       "    .dataframe thead th {\n",
       "        text-align: right;\n",
       "    }\n",
       "</style>\n",
       "<table border=\"1\" class=\"dataframe\">\n",
       "  <thead>\n",
       "    <tr style=\"text-align: right;\">\n",
       "      <th></th>\n",
       "      <th>Coeficientes</th>\n",
       "    </tr>\n",
       "  </thead>\n",
       "  <tbody>\n",
       "    <tr>\n",
       "      <th>CompDiag</th>\n",
       "      <td>144.912150</td>\n",
       "    </tr>\n",
       "    <tr>\n",
       "      <th>Altura</th>\n",
       "      <td>180.029730</td>\n",
       "    </tr>\n",
       "    <tr>\n",
       "      <th>Largura</th>\n",
       "      <td>99.619990</td>\n",
       "    </tr>\n",
       "    <tr>\n",
       "      <th>specie_Bream</th>\n",
       "      <td>-66.870150</td>\n",
       "    </tr>\n",
       "    <tr>\n",
       "      <th>specie_Parkki</th>\n",
       "      <td>-16.042723</td>\n",
       "    </tr>\n",
       "    <tr>\n",
       "      <th>specie_Perch</th>\n",
       "      <td>13.824946</td>\n",
       "    </tr>\n",
       "    <tr>\n",
       "      <th>specie_Pike</th>\n",
       "      <td>3.761026</td>\n",
       "    </tr>\n",
       "    <tr>\n",
       "      <th>specie_Roach</th>\n",
       "      <td>-2.958338</td>\n",
       "    </tr>\n",
       "    <tr>\n",
       "      <th>specie_Smelt</th>\n",
       "      <td>84.407743</td>\n",
       "    </tr>\n",
       "    <tr>\n",
       "      <th>specie_Whitefish</th>\n",
       "      <td>0.710479</td>\n",
       "    </tr>\n",
       "  </tbody>\n",
       "</table>\n",
       "</div>"
      ],
      "text/plain": [
       "                  Coeficientes\n",
       "CompDiag            144.912150\n",
       "Altura              180.029730\n",
       "Largura              99.619990\n",
       "specie_Bream        -66.870150\n",
       "specie_Parkki       -16.042723\n",
       "specie_Perch         13.824946\n",
       "specie_Pike           3.761026\n",
       "specie_Roach         -2.958338\n",
       "specie_Smelt         84.407743\n",
       "specie_Whitefish      0.710479"
      ]
     },
     "execution_count": 59,
     "metadata": {},
     "output_type": "execute_result"
    }
   ],
   "source": [
    "# Coeficientes\n",
    "coef = modelo1.coef_\n",
    "pd.DataFrame(data = coef, index = X.columns, columns= ['Coeficientes'])\n"
   ]
  },
  {
   "cell_type": "markdown",
   "metadata": {},
   "source": [
    "### Avaliando o Modelo"
   ]
  },
  {
   "cell_type": "code",
   "execution_count": 60,
   "metadata": {},
   "outputs": [],
   "source": [
    "pred1 = modelo1.predict(X_teste)"
   ]
  },
  {
   "cell_type": "code",
   "execution_count": 61,
   "metadata": {},
   "outputs": [
    {
     "data": {
      "text/plain": [
       "array([153.16166455, -42.0069293 , 425.36627304, 430.89044572,\n",
       "       592.49030602])"
      ]
     },
     "execution_count": 61,
     "metadata": {},
     "output_type": "execute_result"
    }
   ],
   "source": [
    "pred1[:5]"
   ]
  },
  {
   "cell_type": "code",
   "execution_count": 62,
   "metadata": {},
   "outputs": [
    {
     "data": {
      "text/plain": [
       "Text(0, 0.5, 'Valores Previstos de Y')"
      ]
     },
     "execution_count": 62,
     "metadata": {},
     "output_type": "execute_result"
    },
    {
     "data": {
      "image/png": "[encoded data removed]",
      "text/plain": [
       "<Figure size 720x576 with 1 Axes>"
      ]
     },
     "metadata": {},
     "output_type": "display_data"
    }
   ],
   "source": [
    "# Plot dos dados previstos com os reais\n",
    "plt.figure(figsize = (10,8))\n",
    "\n",
    "plt.scatter(x = Y_teste, y = pred1,color = 'skyblue', edgecolors='black')\n",
    "plt.xlabel('Valores reais de Y', fontdict={'fontsize': 16})\n",
    "plt.ylabel('Valores Previstos de Y', fontdict={'fontsize': 16})"
   ]
  },
  {
   "cell_type": "markdown",
   "metadata": {},
   "source": [
    "A partir do Scatterplot podemos notar que ouve uma relação significativa entre os valores previstos e os valores reais"
   ]
  },
  {
   "cell_type": "markdown",
   "metadata": {},
   "source": [
    "#### Outras Métricas para Avaliar o Modelo"
   ]
  },
  {
   "cell_type": "code",
   "execution_count": 63,
   "metadata": {},
   "outputs": [
    {
     "name": "stdout",
     "output_type": "stream",
     "text": [
      "Média dos Pesos: 377.638064516129\n",
      "Peso Mínimo: 5.9\n",
      "Peso Máximo: 1250.0\n"
     ]
    }
   ],
   "source": [
    "print(f'Média dos Pesos: {df.Peso.mean()}')\n",
    "print(f'Peso Mínimo: {df.Peso.min()}')\n",
    "print(f'Peso Máximo: {df.Peso.max()}')"
   ]
  },
  {
   "cell_type": "code",
   "execution_count": 64,
   "metadata": {},
   "outputs": [
    {
     "data": {
      "text/plain": [
       "55.38918017367528"
      ]
     },
     "execution_count": 64,
     "metadata": {},
     "output_type": "execute_result"
    }
   ],
   "source": [
    "# MAE - Mean Absolute Error\n",
    "mean_absolute_error(Y_teste, pred1)"
   ]
  },
  {
   "cell_type": "markdown",
   "metadata": {},
   "source": [
    "> a Média dos erros absolutos foi de aprox 63, que singifica aproximadamente a 17% da média"
   ]
  },
  {
   "cell_type": "code",
   "execution_count": 65,
   "metadata": {},
   "outputs": [
    {
     "data": {
      "text/plain": [
       "4430.900576162696"
      ]
     },
     "execution_count": 65,
     "metadata": {},
     "output_type": "execute_result"
    }
   ],
   "source": [
    "# Mean Squared Error\n",
    "mean_squared_error(Y_teste, pred1)"
   ]
  },
  {
   "cell_type": "code",
   "execution_count": 66,
   "metadata": {},
   "outputs": [
    {
     "data": {
      "text/plain": [
       "66.56501014919697"
      ]
     },
     "execution_count": 66,
     "metadata": {},
     "output_type": "execute_result"
    }
   ],
   "source": [
    "# RMSE - Root Mean Squared Error\n",
    "np.sqrt(mean_squared_error(Y_teste, pred1))"
   ]
  },
  {
   "cell_type": "markdown",
   "metadata": {},
   "source": [
    "> Obtivemos um valor relativamente alto demais. Ele quer dizer que as previsões estão erradas em aprox 91 gramas"
   ]
  },
  {
   "cell_type": "code",
   "execution_count": 67,
   "metadata": {},
   "outputs": [
    {
     "data": {
      "text/plain": [
       "0.9377469990225841"
      ]
     },
     "execution_count": 67,
     "metadata": {},
     "output_type": "execute_result"
    }
   ],
   "source": [
    "# Coeficiente R2\n",
    "r2_score(Y_teste, pred1)"
   ]
  },
  {
   "cell_type": "markdown",
   "metadata": {},
   "source": [
    "Coeficiente R2 vai de 0 a 1 e quanto mais próximo a 1, melhor foi nosso resultado.\n",
    "\n"
   ]
  },
  {
   "cell_type": "markdown",
   "metadata": {},
   "source": [
    "Obtivemos, portanto, um r2 score de aproximandamente 93%, o que é excelente"
   ]
  },
  {
   "cell_type": "markdown",
   "metadata": {},
   "source": [
    "#### Resíduos"
   ]
  },
  {
   "cell_type": "code",
   "execution_count": 68,
   "metadata": {},
   "outputs": [],
   "source": [
    "%matplotlib inline\n",
    "import warnings\n",
    "warnings.filterwarnings(\"ignore\", category=FutureWarning)"
   ]
  },
  {
   "cell_type": "code",
   "execution_count": 72,
   "metadata": {},
   "outputs": [
    {
     "data": {
      "text/plain": [
       "[(0.0, 0.008)]"
      ]
     },
     "execution_count": 72,
     "metadata": {},
     "output_type": "execute_result"
    },
    {
     "data": {
      "image/png": "[encoded data removed]",
      "text/plain": [
       "<Figure size 576x288 with 1 Axes>"
      ]
     },
     "metadata": {
      "needs_background": "light"
     },
     "output_type": "display_data"
    }
   ],
   "source": [
    "# Plot.\n",
    "plt.figure(figsize=(8,4))\n",
    "ax = sns.distplot((Y_teste - pred1),\n",
    "                  \n",
    "                  color = 'green',\n",
    "                  hist_kws = dict(edgecolor = 'black', linewidth = 0.3))\n",
    "\n",
    "ax.set(xlim = (-250, 350))\n",
    "ax.set(ylim = (0, 0.008))\n",
    "                "
   ]
  },
  {
   "cell_type": "markdown",
   "metadata": {},
   "source": [
    "Os resíduos são aproximadamente normalmente distríbuidos, o que indica um bom ajuste do modelo"
   ]
  }
 ],
 "metadata": {
  "kernelspec": {
   "display_name": "Python 3.7.6 ('base')",
   "language": "python",
   "name": "python3"
  },
  "language_info": {
   "codemirror_mode": {
    "name": "ipython",
    "version": 3
   },
   "file_extension": ".py",
   "mimetype": "text/x-python",
   "name": "python",
   "nbconvert_exporter": "python",
   "pygments_lexer": "ipython3",
   "version": "3.7.6"
  },
  "orig_nbformat": 4,
  "vscode": {
   "interpreter": {
    "hash": "5321d52f472d9d44fe580412eb4884ad344a6c2d5efe9a2fa6eec8e499dc231d"
   }
  }
 },
 "nbformat": 4,
 "nbformat_minor": 2
}
